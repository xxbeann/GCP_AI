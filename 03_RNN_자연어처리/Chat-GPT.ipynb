{
 "cells": [
  {
   "cell_type": "code",
   "execution_count": 1,
   "id": "5b31c116",
   "metadata": {},
   "outputs": [],
   "source": [
    "# !pip install openai"
   ]
  },
  {
   "cell_type": "code",
   "execution_count": 22,
   "id": "ddf77a2b",
   "metadata": {},
   "outputs": [],
   "source": [
    "import openai\n",
    "\n",
    "# 발급받은 API 키 설정\n",
    "# API_KEY = \"오픈AI에서 발급받은 인증키\"\n",
    "API_KEY = 'sk-xxxxxxxxxxxxxxxxxx'\n",
    "\n",
    "# openai API 키 인증\n",
    "openai.api_key = API_KEY"
   ]
  },
  {
   "cell_type": "code",
   "execution_count": 23,
   "id": "7b83cf46",
   "metadata": {},
   "outputs": [
    {
     "name": "stdout",
     "output_type": "stream",
     "text": [
      "ChatGPT는 GPT-3 기반 인공지능 챗봇으로, 자연어 처리 기술을 사용하여 사람과 자연스러운 회화를 할 수 있습니다. ChatGPT는 오픈소스 프로젝트로, 누구나 이용할 수 있으며, 영어권 사용자를 대상으로 합니다.\n",
      "\n",
      "ChatGPT의 버전별 발표일과 특징은 다음과 같습니다.\n",
      "\n",
      "- ChatGPT v1 (2021년 1월) : 125M 파라미터 사용, 간단한 대화 가능\n",
      "- ChatGPT v2 (2021년 6월) : 350M 파라미터 사용, 문맥 이해와 생산성 향상\n",
      "- ChatGPT v3 (2021년 9월) : 760M 파라미터 사용, 특정 주제에 대한 지식 및 이미지 이해 능력 향상\n",
      "- ChatGPT v4 (2022년 2월, 예정) : 1B 파라미터 사용, 더욱 자연스러운 대화 및 높은 지식 이해 능력\n",
      "\n",
      "각 버전의 특징은 파라미터 수를 늘리고, 자연어 이해 능력을 향상시켰습니다. 특히 v3에서는 이미지 이해 능력이 추가되어, 대화 중에 이미지나 그림에 대한 설명도 가능해졌습니다. 또한, v4에서는 1B 파라미터를 사용하며, 더욱 자연스러운 대화와 높은 지식 이해 능력을 제공할 예정입니다.\n"
     ]
    }
   ],
   "source": [
    "# 모델 - GPT 3.5 Turbo 선택\n",
    "model = \"gpt-3.5-turbo\"\n",
    "\n",
    "# 질문 작성하기\n",
    "# query = \"텍스트를 입력받아 이미지를 생성하는 방법을 알려주세요.\"\n",
    "query = \"ChatGPT는 무엇입니까? ChatGPT의 버전별 발표일과 버전별 특징을 알려주세요?\"\n",
    "\n",
    "# 메시지 설정하기\n",
    "messages = [\n",
    "        {\"role\": \"system\", \"content\": \"You are a helpful assistant.\"},\n",
    "        {\"role\": \"user\", \"content\": query}\n",
    "]\n",
    "\n",
    "# ChatGPT API 호출하기\n",
    "response = openai.ChatCompletion.create(\n",
    "    model=model,\n",
    "    messages=messages\n",
    ")\n",
    "answer = response['choices'][0]['message']['content']\n",
    "print(answer)"
   ]
  },
  {
   "cell_type": "code",
   "execution_count": 21,
   "id": "63f42f58",
   "metadata": {},
   "outputs": [
    {
     "name": "stdout",
     "output_type": "stream",
     "text": [
      "\n",
      "ChatGPT는 챗봇(chatbot)과 채팅 메시지를 제공하기 위해 사용되는 딥러닝을 기반으로한 자연어 처리 모델입니다. 이 모델은 OpenAI 분야의 인공지능 분야에서 GPT-3이라고도 합니다. 이것은 거대한 기계 교육 데이터 세트를 기반으로한 순전파 언어 모델이며, 인간의 감각과 사고를 따라가는 객관적인 챗봇 대화를 생성할 수 있는 유일한 방법입니다. 따라서 좋은 챗봇은 GPT-3에 의해 인간에 가깝게 구현될 수 있습니다.\n",
      "\n",
      "ChatGPT는 영어 챗봇 시스템입니다. 이것은 자연어 처리(NLP) 기반의 챗봇 기술과 시퀀셜 기계 번역(SMT)을 사용하여 사용자와 대화하는 방식으로 설계되었습니다. ChatGPT는 OpenAI에서 개발한 Generative Pre Trained Transformer (GPT) 모델을 기반으로 합니다. GPT 모델은 대용량의 텍스트 데이터를 기반으로 학습하고, 이를 기반으로 자연어 처리 작업을 수행합니다. GPT는 Github, Reddit, 대량의 대화 데이터를 기반으로 학습하고 전처리합니다. 이 근간 으로 자동으로 질문에 답할 수 있는 사전 훈련된 모델이 생성됩니다.\n",
      "\n",
      "ChatGPT는 OpenAI에서 만든 챗봇 대화 생성 모델입니다. 이 모델은 OpenAI의 GPT-2 모델과 같이 transformer 기반의 자연어 생성 모델입니다. ChatGPT는 주어진 문맥으로부터 자연스럽고 생생하게 대화를 생성할 수 있는 방법을 연구하고 있습니다. 또한 이 모델은 사람들이 사용하는 자연어 생성과의 차이를 실제 상황에 가장 적합하게 조정할 수 있도록 디자인되었습니다.\n"
     ]
    }
   ],
   "source": [
    "import openai\n",
    "\n",
    "API_KEY = 'sk-xxxxxxxxxxxxxxxxxx'\n",
    "openai.api_key = API_KEY\n",
    "\n",
    "prompt= '''ChatGPT는 무엇입니까?\n",
    "ChatGPT의 역사를 간단히 알려주세요?\n",
    "'''\n",
    "response = openai.Completion.create(\n",
    "    prompt = prompt,\n",
    "    model = 'text-davinci-003',\n",
    "    max_tokens=1000,\n",
    "    temperature=0.9,\n",
    "    n=3,\n",
    "    stop=['---']\n",
    ")\n",
    "#print(response)\n",
    "#print(response.usage.total_tokens)\n",
    "for result in response.choices:\n",
    "    print(result.text)"
   ]
  },
  {
   "cell_type": "code",
   "execution_count": 18,
   "id": "fa9b7158",
   "metadata": {},
   "outputs": [
    {
     "name": "stdout",
     "output_type": "stream",
     "text": [
      "2536\n"
     ]
    }
   ],
   "source": [
    "import openai\n",
    "\n",
    "API_KEY = 'sk-xxxxxxxxxxxxxxxxxx'\n",
    "openai.api_key = API_KEY\n",
    "\n",
    "prompt= '''ChatGPT는 무엇입니까?\n",
    "ChatGPT의 발전 과정을 알려주세요?\n",
    "\n",
    "'''\n",
    "response = openai.Completion.create(\n",
    "    prompt = prompt,\n",
    "    model = 'text-davinci-003',\n",
    "    max_tokens=1000,\n",
    "    temperature=0.9,\n",
    "    n=3,\n",
    "    stop=['---']\n",
    ")\n",
    "# print(response)\n",
    "print(response.usage.total_tokens)\n",
    "# for result in response.choices:\n",
    "#     print(result.text)"
   ]
  },
  {
   "cell_type": "code",
   "execution_count": null,
   "id": "9cb8004e",
   "metadata": {},
   "outputs": [],
   "source": []
  }
 ],
 "metadata": {
  "kernelspec": {
   "display_name": "Python 3 (ipykernel)",
   "language": "python",
   "name": "python3"
  },
  "language_info": {
   "codemirror_mode": {
    "name": "ipython",
    "version": 3
   },
   "file_extension": ".py",
   "mimetype": "text/x-python",
   "name": "python",
   "nbconvert_exporter": "python",
   "pygments_lexer": "ipython3",
   "version": "3.9.16"
  }
 },
 "nbformat": 4,
 "nbformat_minor": 5
}
