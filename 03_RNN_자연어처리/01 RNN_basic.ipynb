{
 "cells": [
  {
   "cell_type": "markdown",
   "id": "1c8c7e1a",
   "metadata": {},
   "source": [
    "### 01 RNN_basic"
   ]
  },
  {
   "cell_type": "code",
   "execution_count": 2,
   "id": "f582b55c",
   "metadata": {},
   "outputs": [],
   "source": [
    "# RNN(Recurrent Neural Network) : 순환 신경망\n",
    "# 순서가 있는 시퀀스 데이터, time series data(시계열 데이터)를 입력하여 예측"
   ]
  },
  {
   "cell_type": "code",
   "execution_count": 3,
   "id": "d6125e80",
   "metadata": {},
   "outputs": [],
   "source": [
    "import tensorflow as tf\n",
    "import numpy as np"
   ]
  },
  {
   "cell_type": "markdown",
   "id": "6ea18825",
   "metadata": {},
   "source": [
    "### One cell: 4 (input_dim) in 2 (hidden_size)"
   ]
  },
  {
   "cell_type": "markdown",
   "id": "dc6f0dd5",
   "metadata": {},
   "source": [
    "![image](https://cloud.githubusercontent.com/assets/901975/23348727/cc981856-fce7-11e6-83ea-4b187473466b.png)"
   ]
  },
  {
   "cell_type": "code",
   "execution_count": 5,
   "id": "17f0badc",
   "metadata": {},
   "outputs": [],
   "source": [
    "# One hot encoding for each char in 'hello'\n",
    "h = [1, 0, 0, 0]\n",
    "e = [0, 1, 0, 0]\n",
    "l = [0, 0, 1, 0]\n",
    "o = [0, 0, 0, 1]"
   ]
  },
  {
   "cell_type": "code",
   "execution_count": 7,
   "id": "7541d137",
   "metadata": {},
   "outputs": [
    {
     "name": "stdout",
     "output_type": "stream",
     "text": [
      "x_data: [[[1. 0. 0. 0.]]], shape: (1, 1, 4)\n",
      "outputs: [[[-0.72532004 -0.36309695]]], shape: (1, 1, 2)\n",
      "states: [[-0.72532004 -0.36309695]], shape: (1, 2)\n"
     ]
    }
   ],
   "source": [
    "# One cell RNN input_dim (4) -> output_dim (2)\n",
    "x_data = np.array([[h]],dtype=np.float32)\n",
    "\n",
    "hidden_size = 2\n",
    "rnn = tf.keras.layers.SimpleRNN(units=hidden_size,return_sequences=True,return_state=True)\n",
    "\n",
    "outputs, states = rnn(x_data)\n",
    "print('x_data: {}, shape: {}'.format(x_data, x_data.shape)) # (N, T, D)\n",
    "print('outputs: {}, shape: {}'.format(outputs, outputs.shape)) # (N, T, H)\n",
    "print('states: {}, shape: {}'.format(states, states.shape)) # (N, H)\n",
    "\n",
    "# N: batch_size, T: sequence length, D: input dimensize, H: hidden size"
   ]
  },
  {
   "cell_type": "markdown",
   "id": "9a776bd0",
   "metadata": {},
   "source": [
    "### Unfolding to n sequences"
   ]
  },
  {
   "cell_type": "markdown",
   "id": "bb58ad78",
   "metadata": {},
   "source": [
    "![image](https://cloud.githubusercontent.com/assets/901975/23383634/649efd0a-fd82-11e6-925d-8041242743b0.png)"
   ]
  },
  {
   "cell_type": "markdown",
   "id": "85324b67",
   "metadata": {},
   "source": [
    "### One cell RNN input_dim (4) -> output_dim (2), sequence: 5"
   ]
  },
  {
   "cell_type": "code",
   "execution_count": 11,
   "id": "c36d2310",
   "metadata": {},
   "outputs": [
    {
     "name": "stdout",
     "output_type": "stream",
     "text": [
      "x_data: [[[1. 0. 0. 0.]\n",
      "  [0. 1. 0. 0.]\n",
      "  [0. 0. 1. 0.]\n",
      "  [0. 0. 1. 0.]\n",
      "  [0. 0. 0. 1.]]], shape: (1, 5, 4)\n",
      "outputs: [[[ 0.57787967 -0.7197511 ]\n",
      "  [ 0.1729374   0.91386884]\n",
      "  [-0.3104793  -0.9399166 ]\n",
      "  [ 0.7007392  -0.23155078]\n",
      "  [-0.8438609   0.6852156 ]]], shape: (1, 5, 2)\n",
      "states: [[-0.8438609  0.6852156]], shape: (1, 2)\n"
     ]
    }
   ],
   "source": [
    "# One cell RNN input_dim (4) -> output_dim (2), sequence: 5\n",
    "x_data = np.array([[h, e, l, l, o]], dtype=np.float32)\n",
    "\n",
    "hidden_size = 2\n",
    "\n",
    "rnn = tf.keras.layers.SimpleRNN(units=2,return_sequences=True,return_state=True)\n",
    "outputs,states = rnn(x_data)\n",
    "print('x_data: {}, shape: {}'.format(x_data, x_data.shape)) # (N, T, D)\n",
    "print('outputs: {}, shape: {}'.format(outputs, outputs.shape)) # (N, T, H)\n",
    "print('states: {}, shape: {}'.format(states, states.shape)) # (N, H)"
   ]
  },
  {
   "cell_type": "markdown",
   "id": "3caa8997",
   "metadata": {},
   "source": [
    "### Batching input"
   ]
  },
  {
   "cell_type": "markdown",
   "id": "4c7c860d",
   "metadata": {},
   "source": [
    "![image](https://cloud.githubusercontent.com/assets/901975/23383681/9943a9fc-fd82-11e6-8121-bd187994e249.png)"
   ]
  },
  {
   "cell_type": "code",
   "execution_count": 14,
   "id": "a637c811",
   "metadata": {},
   "outputs": [
    {
     "name": "stdout",
     "output_type": "stream",
     "text": [
      "x_data: [[[1. 0. 0. 0.]\n",
      "  [0. 1. 0. 0.]\n",
      "  [0. 0. 1. 0.]\n",
      "  [0. 0. 1. 0.]\n",
      "  [0. 0. 0. 1.]]\n",
      "\n",
      " [[0. 1. 0. 0.]\n",
      "  [0. 0. 0. 1.]\n",
      "  [0. 0. 1. 0.]\n",
      "  [0. 0. 1. 0.]\n",
      "  [0. 0. 1. 0.]]\n",
      "\n",
      " [[0. 0. 1. 0.]\n",
      "  [0. 0. 1. 0.]\n",
      "  [0. 1. 0. 0.]\n",
      "  [0. 1. 0. 0.]\n",
      "  [0. 0. 1. 0.]]], shape: (3, 5, 4)\n",
      "outputs: [[[-0.5316856  -0.5968323 ]\n",
      "  [-0.05683605 -0.8584879 ]\n",
      "  [ 0.90710664 -0.02320376]\n",
      "  [ 0.83151484  0.8372873 ]\n",
      "  [ 0.5043987   0.92698395]]\n",
      "\n",
      " [[-0.33999708 -0.4971845 ]\n",
      "  [ 0.84182316 -0.00707328]\n",
      "  [ 0.81758213  0.8212955 ]\n",
      "  [ 0.37753963  0.90665466]\n",
      "  [ 0.12395499  0.8186025 ]]\n",
      "\n",
      " [[ 0.64567053  0.3888195 ]\n",
      "  [ 0.6092074   0.82159543]\n",
      "  [-0.6739301   0.35052842]\n",
      "  [-0.74796194 -0.7584384 ]\n",
      "  [ 0.8052129  -0.53508335]]], shape: (3, 5, 2)\n",
      "states: [[ 0.5043987   0.92698395]\n",
      " [ 0.12395499  0.8186025 ]\n",
      " [ 0.8052129  -0.53508335]], shape: (3, 2)\n"
     ]
    }
   ],
   "source": [
    "# One cell RNN input_dim (4) -> output_dim (2). sequence: 5, batch 3\n",
    "# 3 batches 'hello', 'eolll', 'lleel'\n",
    "x_data = np.array([[h, e, l, l, o],\n",
    "                   [e, o, l, l, l],\n",
    "                   [l, l, e, e, l]], dtype=np.float32)\n",
    "\n",
    "hidden_size = 2\n",
    "\n",
    "rnn = tf.keras.layers.SimpleRNN(units=2,return_sequences=True,return_state=True)\n",
    "outputs,states = rnn(x_data)\n",
    "print('x_data: {}, shape: {}'.format(x_data, x_data.shape)) # (N, T, D)\n",
    "print('outputs: {}, shape: {}'.format(outputs, outputs.shape)) # (N, T, H)\n",
    "print('states: {}, shape: {}'.format(states, states.shape)) # (N, H)"
   ]
  },
  {
   "cell_type": "code",
   "execution_count": null,
   "id": "540cd2d5",
   "metadata": {},
   "outputs": [],
   "source": []
  }
 ],
 "metadata": {
  "kernelspec": {
   "display_name": "Python 3 (ipykernel)",
   "language": "python",
   "name": "python3"
  },
  "language_info": {
   "codemirror_mode": {
    "name": "ipython",
    "version": 3
   },
   "file_extension": ".py",
   "mimetype": "text/x-python",
   "name": "python",
   "nbconvert_exporter": "python",
   "pygments_lexer": "ipython3",
   "version": "3.10.9"
  }
 },
 "nbformat": 4,
 "nbformat_minor": 5
}
