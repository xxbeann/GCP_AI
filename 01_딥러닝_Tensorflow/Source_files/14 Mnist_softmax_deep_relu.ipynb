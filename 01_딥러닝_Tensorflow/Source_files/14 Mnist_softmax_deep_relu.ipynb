{
 "cells": [
  {
   "cell_type": "code",
   "execution_count": 1,
   "metadata": {},
   "outputs": [],
   "source": [
    "# mnist_softmax_deep_relu\n",
    "# 4 layers\n",
    "\n",
    "# MNIST(Modified National Institute of Standard Technology) Dataset\n",
    "# https://ko.wikipedia.org/wiki/MNIST\n",
    "# label : 0 ~ 9 , 손글씨체 이미지  28*28(784 byte) , gray scale\n",
    "# Train : 60000개 , Test : 10000개\n",
    "\n",
    "# batch : 큰 데이터를 쪼개어 1회에 작은 단위로 가져다가 학습, next_batch()\n",
    "# epoch : batch를 반복하여 전체 데이터가 모두 소진되었을 때를 1 epoch\n",
    "# Vanishing Gradient  : 신경망이 깊어 질수록 입력신호가 사라진다(줄어든다), sigmoid 사용시\n",
    "# Relu  : Rectified Linear Unit, DNN(deep neural net) 구현시 sigmoid 대신 사용됨\n",
    "# dropout : 전체 신경망의 일부를 사용하지 않고 학습, 예측시는 전체를 사용\n",
    "\n",
    "import tensorflow as tf\n",
    "import numpy as np\n",
    "import matplotlib.pyplot as plt\n",
    "tf.random.set_seed(5)"
   ]
  },
  {
   "cell_type": "code",
   "execution_count": 2,
   "metadata": {},
   "outputs": [
    {
     "name": "stdout",
     "output_type": "stream",
     "text": [
      "(60000, 28, 28)\n"
     ]
    }
   ],
   "source": [
    "# mnist 데이터 가져오기\n",
    "mnist = tf.keras.datasets.mnist\n",
    "(x_train,y_train),(x_test,y_test) = mnist.load_data()\n",
    "print(x_train.shape)"
   ]
  },
  {
   "cell_type": "code",
   "execution_count": 3,
   "metadata": {},
   "outputs": [
    {
     "name": "stdout",
     "output_type": "stream",
     "text": [
      "<class 'numpy.ndarray'> (60000, 28, 28)\n",
      "<class 'numpy.ndarray'> (60000,)\n",
      "<class 'numpy.ndarray'> (10000, 28, 28)\n",
      "<class 'numpy.ndarray'> (10000,)\n",
      "5\n"
     ]
    },
    {
     "data": {
      "image/png": "[encoded data removed]",
      "text/plain": [
       "<Figure size 640x480 with 1 Axes>"
      ]
     },
     "metadata": {},
     "output_type": "display_data"
    }
   ],
   "source": [
    "# 이미지로 출력\n",
    "def show_one_image(n):\n",
    "    print(type(x_train),x_train.shape) # (60000, 28, 28)\n",
    "    print(type(y_train),y_train.shape) # (60000,)\n",
    "    print(type(x_test),x_test.shape)   # (10000, 28, 28)\n",
    "    print(type(y_test),y_test.shape)   # (10000,)\n",
    "    \n",
    "    image = x_train[n]\n",
    "    print(y_train[n])\n",
    "    \n",
    "    plt.imshow(image,cmap='Greys')\n",
    "    plt.show()\n",
    "\n",
    "show_one_image(0)    "
   ]
  },
  {
   "cell_type": "code",
   "execution_count": 4,
   "metadata": {},
   "outputs": [
    {
     "name": "stdout",
     "output_type": "stream",
     "text": [
      "(60000, 10)\n",
      "(60000, 784) <dtype: 'float32'>\n",
      "(10000, 784) <dtype: 'float32'>\n"
     ]
    }
   ],
   "source": [
    "# one-hot 인코딩\n",
    "nb_classes = 10  # 분류 class의 갯수(0~9)\n",
    "\n",
    "Y_one_hot = tf.one_hot(y_train,nb_classes)   # (60000, 10)\n",
    "print(Y_one_hot.shape)                       # (60000, 10) , (2차원)\n",
    "\n",
    "# X값의 shape을 2차원으로 변환\n",
    "x_train = x_train.reshape(-1,28*28)\n",
    "x_test = x_test.reshape(-1,28*28)\n",
    "\n",
    "# X값의 타입을 float형으로 변환\n",
    "x_train = tf.cast(x_train,dtype=tf.float32)\n",
    "print(x_train.shape,x_train.dtype)\n",
    "\n",
    "x_test = tf.cast(x_test,dtype=tf.float32)\n",
    "print(x_test.shape,x_test.dtype)"
   ]
  },
  {
   "cell_type": "code",
   "execution_count": 5,
   "metadata": {},
   "outputs": [],
   "source": [
    "# Layer 1  : 은닉층(Hidden Layer)\n",
    "# (60000, 784) * (784,512) = (60000, 512)\n",
    "W1 = tf.Variable(tf.random.normal([784,512]), name='weight1')\n",
    "b1 = tf.Variable(tf.random.normal([512]), name='bias1')\n",
    "\n",
    "def layer1(X):\n",
    "    # return  tf.sigmoid(tf.matmul(X,W1) + b1)  \n",
    "    return  tf.nn.relu(tf.matmul(X,W1) + b1)  "
   ]
  },
  {
   "cell_type": "code",
   "execution_count": 6,
   "metadata": {},
   "outputs": [],
   "source": [
    "# Layer 2  : 은닉층(Hidden Layer)\n",
    "# (60000, 512) * (512,512) = (60000, 512)\n",
    "W2 = tf.Variable(tf.random.normal([512,512]), name='weight2')\n",
    "b2 = tf.Variable(tf.random.normal([512]), name='bias2')\n",
    "\n",
    "def layer2(X):\n",
    "    # return  tf.sigmoid(tf.matmul(layer1(X),W2) + b2) \n",
    "    return  tf.nn.relu(tf.matmul(layer1(X),W2) + b2) "
   ]
  },
  {
   "cell_type": "code",
   "execution_count": 7,
   "metadata": {},
   "outputs": [],
   "source": [
    "# Layer 3  : 은닉층(Hidden Layer)\n",
    "# (60000, 512) * (512,512) = (60000, 512)\n",
    "W3 = tf.Variable(tf.random.normal([512,512]), name='weight3')\n",
    "b3 = tf.Variable(tf.random.normal([512]), name='bias3')\n",
    "\n",
    "def layer3(X):\n",
    "    # return  tf.sigmoid(tf.matmul(layer2(X),W3) + b3) \n",
    "    return  tf.nn.relu(tf.matmul(layer2(X),W3) + b3) "
   ]
  },
  {
   "cell_type": "code",
   "execution_count": 8,
   "metadata": {},
   "outputs": [],
   "source": [
    "# Layer 4  : 출력층(Output Layer)\n",
    "# (60000, 512) * (512,10) = (60000, 10)\n",
    "W4 = tf.Variable(tf.random.normal([512,nb_classes]), name='weight4')\n",
    "b4 = tf.Variable(tf.random.normal([nb_classes]), name='bias4')"
   ]
  },
  {
   "cell_type": "code",
   "execution_count": 9,
   "metadata": {},
   "outputs": [],
   "source": [
    "# 예측 함수(hypothesis) : H(X) = softmax(W*X + b)\n",
    "def logits(X):\n",
    "    return tf.matmul(layer3(X),W4) + b4\n",
    "\n",
    "def hypothesis(X):\n",
    "    return tf.nn.softmax(logits(X)) "
   ]
  },
  {
   "cell_type": "code",
   "execution_count": 10,
   "metadata": {},
   "outputs": [
    {
     "name": "stdout",
     "output_type": "stream",
     "text": [
      "***** Start Learning!!\n",
      "Epoch: 0001 cost: 916458.240039062\n",
      "Epoch: 0002 cost: 83719.877695313\n",
      "Epoch: 0003 cost: 35459.980468750\n",
      "Epoch: 0004 cost: 16829.497346191\n",
      "Epoch: 0005 cost: 8800.263220215\n",
      "Epoch: 0006 cost: 5211.710329590\n",
      "Epoch: 0007 cost: 4488.408230896\n",
      "Epoch: 0008 cost: 3277.183938217\n",
      "Epoch: 0009 cost: 1766.965367651\n",
      "Epoch: 0010 cost: 1144.191405611\n",
      "Epoch: 0011 cost: 790.726515255\n",
      "Epoch: 0012 cost: 466.303271624\n",
      "Epoch: 0013 cost: 375.232360382\n",
      "Epoch: 0014 cost: 463.506585064\n",
      "Epoch: 0015 cost: 242.109190927\n",
      "***** Learning Finished!!\n"
     ]
    }
   ],
   "source": [
    "# 방법 2. batch 사이즈로 나누어 학습, 효율적 이며 학습 시간 단축\n",
    "# 학습 시작\n",
    "\n",
    "training_epoch = 15\n",
    "batch_size = 600\n",
    "\n",
    "# 경사 하강법\n",
    "# learning_rate(학습율)을 0.01 로 설정하여 optimizer객체를 생성\n",
    "optimizer = tf.keras.optimizers.Adam(learning_rate=0.01)\n",
    "\n",
    "Y_one_hot = tf.one_hot(y_train,nb_classes)   # (60000, 10)\n",
    "\n",
    "print('***** Start Learning!!')\n",
    "for epoch in range(training_epoch): # 15회\n",
    "    \n",
    "    avg_cost = 0\n",
    "    \n",
    "    # 100 = 60000/600\n",
    "    total_batch = int(x_train.shape[0]/batch_size)\n",
    "    for k in range(total_batch):  # 100회\n",
    "        batch_xs = x_train[0 + k*batch_size:batch_size + k*batch_size]   # 600개의 X 데이터\n",
    "        batch_ys = Y_one_hot[0 + k*batch_size:batch_size + k*batch_size] # 600개의 Y 데이터\n",
    "        \n",
    "        # 비용함수        \n",
    "        def cost_func_batch():\n",
    "            cost_i = tf.nn.softmax_cross_entropy_with_logits(logits = logits(batch_xs),\n",
    "                                             labels = batch_ys)\n",
    "            cost =  tf.reduce_mean(cost_i)\n",
    "            return cost\n",
    "        \n",
    "        # cost를 minimize 한다\n",
    "        optimizer.minimize(cost_func_batch,var_list=[W1,b1,W2,b2,W3,b3,W4,b4])\n",
    "        avg_cost += cost_func_batch().numpy()/total_batch\n",
    "            \n",
    "    print('Epoch:','%04d'%(epoch + 1),'cost:','{:.9f}'.format(avg_cost))\n",
    "             \n",
    "print('***** Learning Finished!!')"
   ]
  },
  {
   "cell_type": "code",
   "execution_count": 11,
   "metadata": {},
   "outputs": [
    {
     "name": "stdout",
     "output_type": "stream",
     "text": [
      "(10000, 10)\n",
      "Accuracy: 0.9564\n",
      "***** Predict\n",
      "[7 2 1 ... 4 5 6] [7 2 1 ... 4 5 6]\n"
     ]
    }
   ],
   "source": [
    "# 정확도 측정 : accuracy computation\n",
    "\n",
    "# y_test 값의 one-hot 인코딩\n",
    "Y_one_hot = tf.one_hot(y_test,nb_classes)    # (10000,10)\n",
    "print(Y_one_hot.shape)                       # (10000,10)  , (2차원)\n",
    "\n",
    "# tf.argmax() : 값이 가장 큰 요소의 인덱스 값을 반환\n",
    "def predict(X):\n",
    "    return tf.argmax(hypothesis(X),axis=1)\n",
    "\n",
    "correct_predict = tf.equal(predict(x_test),tf.argmax(Y_one_hot,1))\n",
    "accuracy = tf.reduce_mean(tf.cast(correct_predict, dtype = tf.float32))\n",
    "print(\"Accuracy:\",accuracy.numpy()) # Accuracy: 0.9534\n",
    "\n",
    "#예측\n",
    "print('***** Predict')\n",
    "pred = predict(x_test).numpy()\n",
    "print(pred,y_test)"
   ]
  },
  {
   "cell_type": "code",
   "execution_count": 12,
   "metadata": {},
   "outputs": [
    {
     "name": "stdout",
     "output_type": "stream",
     "text": [
      "random =  6389 Label: 3\n",
      "Prediction :  [3]\n"
     ]
    },
    {
     "data": {
      "image/png": "[encoded data removed]",
      "text/plain": [
       "<Figure size 640x480 with 1 Axes>"
      ]
     },
     "metadata": {},
     "output_type": "display_data"
    }
   ],
   "source": [
    "# 임의의 test 데이터로 예측한 값 시각화하기\n",
    "r = np.random.randint(0,x_test.shape[0] - 1) # 0 to 9999 random int number\n",
    "# r = 1411   # Label: 0, Prediction :  [9]\n",
    "\n",
    "print('random = ',r, 'Label:',y_test[r])\n",
    "\n",
    "print('Prediction : ',predict(x_test[r:r+1]).numpy())\n",
    "\n",
    "image = tf.reshape(x_test[r],(28,28))\n",
    "plt.imshow(image,cmap='Greys')\n",
    "plt.show()"
   ]
  },
  {
   "cell_type": "code",
   "execution_count": 13,
   "metadata": {},
   "outputs": [],
   "source": [
    "# 정확도 비교\n",
    "# 1 layers              -------> Accuracy  : 0.8871\n",
    "# 4 layers  sigmoid     -------> Accuracy  : 0.9017\n",
    "# 4 layers  relu        -------> Accuracy  : 0.9607"
   ]
  },
  {
   "cell_type": "code",
   "execution_count": null,
   "metadata": {},
   "outputs": [],
   "source": []
  }
 ],
 "metadata": {
  "kernelspec": {
   "display_name": "Python 3 (ipykernel)",
   "language": "python",
   "name": "python3"
  },
  "language_info": {
   "codemirror_mode": {
    "name": "ipython",
    "version": 3
   },
   "file_extension": ".py",
   "mimetype": "text/x-python",
   "name": "python",
   "nbconvert_exporter": "python",
   "pygments_lexer": "ipython3",
   "version": "3.9.13"
  }
 },
 "nbformat": 4,
 "nbformat_minor": 4
}
