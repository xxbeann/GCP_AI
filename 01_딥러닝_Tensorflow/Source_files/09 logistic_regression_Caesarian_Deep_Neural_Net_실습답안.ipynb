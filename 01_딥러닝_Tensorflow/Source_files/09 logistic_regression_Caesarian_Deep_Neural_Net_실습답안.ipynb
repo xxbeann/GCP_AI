{
 "cells": [
  {
   "cell_type": "code",
   "execution_count": 1,
   "metadata": {},
   "outputs": [
    {
     "name": "stdout",
     "output_type": "stream",
     "text": [
      "(56, 5)\n",
      "(56, 1)\n"
     ]
    }
   ],
   "source": [
    "# logistic_regression_Caesarian_Deep_Neural_Net_실습답안\n",
    "# 3 Layer DNN(Deep Neural Net)\n",
    "\n",
    "import tensorflow as tf\n",
    "import numpy as np\n",
    "tf.random.set_seed(5)\n",
    "\n",
    "xy = np.loadtxt('caesarian.csv',delimiter=',',dtype=np.float32)\n",
    "\n",
    "# train data set\n",
    "x_data = xy[0:56, 0:-1 ]\n",
    "y_data = xy[0:56, [-1] ]\n",
    "\n",
    "x_train = np.array(x_data,dtype=np.float32)\n",
    "y_train = np.array(y_data,dtype=np.float32)\n",
    "print(x_train.shape)  # (56,5)\n",
    "print(y_train.shape)  # (56,1)"
   ]
  },
  {
   "cell_type": "code",
   "execution_count": 2,
   "metadata": {},
   "outputs": [],
   "source": [
    "# Layer 1\n",
    "# (56,5) * (5,5) = (56,5)\n",
    "W1 = tf.Variable(tf.random.normal([5,3]), name='weight1')\n",
    "b1 = tf.Variable(tf.random.normal([3]), name='bias1')\n",
    "\n",
    "@tf.function\n",
    "def layer1(X):\n",
    "    return  tf.nn.relu(tf.matmul(X,W1) + b1 )\n",
    "#     return  tf.sigmoid(tf.matmul(X,W1) + b1 )"
   ]
  },
  {
   "cell_type": "code",
   "execution_count": 3,
   "metadata": {},
   "outputs": [],
   "source": [
    "# layer 2\n",
    "# (56,5) * (5,2) = (56,2)\n",
    "W2 = tf.Variable(tf.random.normal([3,2]), name='weight2')\n",
    "b2 = tf.Variable(tf.random.normal([2]), name='bias2')\n",
    "\n",
    "@tf.function\n",
    "def layer2(X):\n",
    "    return  tf.nn.relu(tf.matmul(layer1(X),W2) + b2 )\n",
    "#     return  tf.sigmoid(tf.matmul(layer1(X),W2) + b2 )"
   ]
  },
  {
   "cell_type": "code",
   "execution_count": 4,
   "metadata": {},
   "outputs": [],
   "source": [
    "# layer 3\n",
    "# (56,2) * (2,1) = (56,1)\n",
    "W3 = tf.Variable(tf.random.normal([2,1]), name='weight3')\n",
    "b3 = tf.Variable(tf.random.normal([1]), name='bias3')"
   ]
  },
  {
   "cell_type": "code",
   "execution_count": 5,
   "metadata": {},
   "outputs": [],
   "source": [
    "# hypothesis 예측 함수(방정식)  , H(x) = sigmoid(W * X + b)\n",
    "# tf.sigmoid : tf.div(1., 1. + tf.exp(tf.matmul(X,W)))\n",
    "def hypothesis(X):\n",
    "    return  tf.sigmoid(tf.matmul(layer2(X),W3) + b3)"
   ]
  },
  {
   "cell_type": "code",
   "execution_count": 6,
   "metadata": {},
   "outputs": [],
   "source": [
    "# 비용함수 : logloss\n",
    "def cost_func():\n",
    "    cost = -tf.reduce_mean(y_train*tf.math.log(hypothesis(x_train)) + (1-y_train)*\n",
    "                       tf.math.log(1-hypothesis(x_train)))\n",
    "    return cost"
   ]
  },
  {
   "cell_type": "code",
   "execution_count": 7,
   "metadata": {},
   "outputs": [],
   "source": [
    "## 경사 하강법\n",
    "# learning rate (학습율) 을 0.01로 설정하여  optimizer객체를 생성\n",
    "# optimizer = tf.compat.v1.train.GradientDescentOptimizer(learning_rate=0.01)\n",
    "optimizer = tf.keras.optimizers.Adam(lr=0.01)"
   ]
  },
  {
   "cell_type": "code",
   "execution_count": 8,
   "metadata": {},
   "outputs": [
    {
     "name": "stdout",
     "output_type": "stream",
     "text": [
      "***** Start Learning!!\n",
      "0000 cost: [ 0.70374346 ]\n",
      "1000 cost: [ 0.46336046 ]\n",
      "2000 cost: [ 0.4634542 ]\n",
      "3000 cost: [ 0.62435067 ]\n",
      "4000 cost: [ 0.49458805 ]\n",
      "5000 cost: [ 0.6793093 ]\n",
      "6000 cost: [ 0.6793092 ]\n",
      "7000 cost: [ 0.679309 ]\n",
      "8000 cost: [ 0.6793088 ]\n",
      "9000 cost: [ 0.6793086 ]\n",
      "10000 cost: [ 0.67930835 ]\n",
      "***** Learning Finished!!\n"
     ]
    }
   ],
   "source": [
    "# 학습 시작\n",
    "print('***** Start Learning!!')\n",
    "for step in range(10001):\n",
    "    # cost를 minimize한다\n",
    "    optimizer.minimize(cost_func, var_list=[W1,b1,W2,b2,W3,b3])\n",
    "    \n",
    "    if step % 1000 == 0:\n",
    "        print('%04d'%step, 'cost: [', cost_func().numpy(),']')\n",
    "        \n",
    "print('***** Learning Finished!!')"
   ]
  },
  {
   "cell_type": "code",
   "execution_count": 9,
   "metadata": {},
   "outputs": [
    {
     "name": "stdout",
     "output_type": "stream",
     "text": [
      "Weight = [[-0.24036118 -0.95028627 -0.00328953]\n",
      " [-0.80258745  1.3231523  -0.5937796 ]\n",
      " [ 0.7940195  -0.08899953  2.7338352 ]\n",
      " [ 0.702457    1.2659615  -0.2370226 ]\n",
      " [ 1.469265   -0.57500345 -1.4145939 ]]\n",
      "Bias = [0.16648147 0.8106553  4.109495  ]\n"
     ]
    }
   ],
   "source": [
    "# 회귀 계수 출력\n",
    "print('Weight =', W1.numpy())\n",
    "print('Bias =', b1.numpy())                                 "
   ]
  },
  {
   "cell_type": "code",
   "execution_count": 10,
   "metadata": {},
   "outputs": [
    {
     "name": "stdout",
     "output_type": "stream",
     "text": [
      "\n",
      "Accuracy: 0.6666667\n"
     ]
    }
   ],
   "source": [
    "# accuracy computation (정확도 측정)\n",
    "# test data set\n",
    "x_data = xy[56:, :-1 ]\n",
    "y_data = xy[56:, [-1] ]\n",
    "\n",
    "x_test = np.array(x_data,dtype=np.float32)\n",
    "y_test = np.array(y_data,dtype=np.float32)\n",
    "\n",
    "def predict(X):\n",
    "    return tf.cast(hypothesis(X) > 0.5, dtype = tf.float32)\n",
    "\n",
    "accuracy = tf.reduce_mean(tf.cast(tf.equal(predict(x_test),y_test),\n",
    "                                     dtype = tf.float32))\n",
    "# print(\"Hypothesis:\\n\",hypothesis(x_test).numpy(), \n",
    "#       \"\\nPredict:\\n\",predict(x_test).numpy())\n",
    "\n",
    "print(\"\\nAccuracy:\",accuracy.numpy()) \n",
    "# Layer 1   ----->    Accuracy: 0.45833334\n",
    "# Layer 3   ----->    Accuracy: 0.6666667\n"
   ]
  },
  {
   "cell_type": "code",
   "execution_count": null,
   "metadata": {},
   "outputs": [],
   "source": []
  }
 ],
 "metadata": {
  "kernelspec": {
   "display_name": "Python 3 (ipykernel)",
   "language": "python",
   "name": "python3"
  },
  "language_info": {
   "codemirror_mode": {
    "name": "ipython",
    "version": 3
   },
   "file_extension": ".py",
   "mimetype": "text/x-python",
   "name": "python",
   "nbconvert_exporter": "python",
   "pygments_lexer": "ipython3",
   "version": "3.9.16"
  }
 },
 "nbformat": 4,
 "nbformat_minor": 4
}
