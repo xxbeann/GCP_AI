{
 "cells": [
  {
   "cell_type": "code",
   "execution_count": 6,
   "metadata": {},
   "outputs": [
    {
     "data": {
      "text/plain": [
       "((56, 5), (56, 1))"
      ]
     },
     "execution_count": 6,
     "metadata": {},
     "output_type": "execute_result"
    }
   ],
   "source": [
    "# logistic_regression_Caesarian.\n",
    "\n",
    "import tensorflow as tf\n",
    "import numpy as np\n",
    "tf.random.set_seed(5)\n",
    "\n",
    "xy = np.loadtxt('caesarian.csv',delimiter=',',dtype=np.float32)\n",
    "\n",
    "# train data set\n",
    "x_data = xy[:56, :-1 ]\n",
    "y_data = xy[:56, [-1] ]\n",
    "\n",
    "x_train = np.array(x_data,dtype=np.float32)\n",
    "y_train = np.array(y_data,dtype=np.float32)\n",
    "x_train.shape,y_train.shape"
   ]
  },
  {
   "cell_type": "code",
   "execution_count": 7,
   "metadata": {},
   "outputs": [],
   "source": [
    "# 변수 초기화 : weight, bias\n",
    "W = tf.Variable(tf.random.normal([5,1]), name='weight')\n",
    "b = tf.Variable(tf.random.normal([1]), name='bias')"
   ]
  },
  {
   "cell_type": "code",
   "execution_count": 8,
   "metadata": {},
   "outputs": [],
   "source": [
    "# hypothesis 예측 함수(방정식)  , H(x) = sigmoid(W * X + b)\n",
    "# tf.sigmoid : tf.div(1., 1. + tf.exp(tf.matmul(X,W)))\n",
    "def hypothesis(X):\n",
    "    return  tf.sigmoid(tf.matmul(X,W) + b  )"
   ]
  },
  {
   "cell_type": "code",
   "execution_count": 9,
   "metadata": {},
   "outputs": [],
   "source": [
    "# 비용함수 : logloss\n",
    "def cost_func():\n",
    "    cost = -tf.reduce_mean(y_train*tf.math.log(hypothesis(x_train)) + (1-y_train)*\n",
    "                       tf.math.log(1-hypothesis(x_train)))\n",
    "    return cost"
   ]
  },
  {
   "cell_type": "code",
   "execution_count": 11,
   "metadata": {},
   "outputs": [],
   "source": [
    "## 경사 하강법\n",
    "# learning rate (학습율) 을 0.01로 설정하여  optimizer객체를 생성\n",
    "# optimizer = tf.compat.v1.train.GradientDescentOptimizer(learning_rate=0.01)\n",
    "optimizer = tf.keras.optimizers.Adam(learning_rate=0.01)"
   ]
  },
  {
   "cell_type": "code",
   "execution_count": 12,
   "metadata": {},
   "outputs": [
    {
     "name": "stdout",
     "output_type": "stream",
     "text": [
      "***** Start Learning!!\n",
      "0000 cost: [ 3.2573597 ]  W:  [[-0.17030665]\n",
      " [-0.9402863 ]\n",
      " [-0.02964061]\n",
      " [-0.73254067]\n",
      " [ 1.3331522 ]]   b:  [0.23652858]\n",
      "1000 cost: [ 0.5308221 ]  W:  [[-0.0334911 ]\n",
      " [ 0.25211972]\n",
      " [-0.27006334]\n",
      " [ 0.1515186 ]\n",
      " [ 2.5541186 ]]   b:  [-0.17207511]\n",
      "2000 cost: [ 0.52928954 ]  W:  [[-0.01470618]\n",
      " [ 0.26314092]\n",
      " [-0.24688812]\n",
      " [ 0.1990066 ]\n",
      " [ 2.5522108 ]]   b:  [-0.777842]\n",
      "3000 cost: [ 0.5291536 ]  W:  [[-0.00793586]\n",
      " [ 0.26635003]\n",
      " [-0.23871744]\n",
      " [ 0.21688217]\n",
      " [ 2.5552855 ]]   b:  [-0.9965631]\n",
      "4000 cost: [ 0.52915204 ]  W:  [[-0.00714856]\n",
      " [ 0.26674038]\n",
      " [-0.23777413]\n",
      " [ 0.21897103]\n",
      " [ 2.555761  ]]   b:  [-1.0220594]\n",
      "5000 cost: [ 0.52915204 ]  W:  [[-0.00713175]\n",
      " [ 0.2667488 ]\n",
      " [-0.23775381]\n",
      " [ 0.21901624]\n",
      " [ 2.5557718 ]]   b:  [-1.0226048]\n",
      "6000 cost: [ 0.52915204 ]  W:  [[-0.00713134]\n",
      " [ 0.26674837]\n",
      " [-0.23775367]\n",
      " [ 0.21901649]\n",
      " [ 2.5557725 ]]   b:  [-1.0226158]\n",
      "7000 cost: [ 0.52915204 ]  W:  [[-0.00713142]\n",
      " [ 0.2667487 ]\n",
      " [-0.23775348]\n",
      " [ 0.21901664]\n",
      " [ 2.5557733 ]]   b:  [-1.0226154]\n",
      "8000 cost: [ 0.52929866 ]  W:  [[-0.00842214]\n",
      " [ 0.26561832]\n",
      " [-0.23918986]\n",
      " [ 0.21780677]\n",
      " [ 2.555328  ]]   b:  [-1.0239061]\n",
      "9000 cost: [ 0.52915204 ]  W:  [[-0.00712982]\n",
      " [ 0.26675072]\n",
      " [-0.23775189]\n",
      " [ 0.21901819]\n",
      " [ 2.5557747 ]]   b:  [-1.0226109]\n",
      "10000 cost: [ 0.52915204 ]  W:  [[-0.00713016]\n",
      " [ 0.26674965]\n",
      " [-0.23775208]\n",
      " [ 0.2190182 ]\n",
      " [ 2.555771  ]]   b:  [-1.0226153]\n",
      "***** Learning Finished!!\n"
     ]
    }
   ],
   "source": [
    "# 학습 시작\n",
    "print('***** Start Learning!!')\n",
    "for step in range(10001):\n",
    "    # cost를 minimize한다\n",
    "    optimizer.minimize(cost_func, var_list=[W,b])\n",
    "    \n",
    "    if step % 1000 == 0:\n",
    "        print('%04d'%step, 'cost: [', cost_func().numpy(), ']  W: ', W.numpy(), '  b: ', b.numpy())\n",
    "        \n",
    "print('***** Learning Finished!!')"
   ]
  },
  {
   "cell_type": "code",
   "execution_count": 13,
   "metadata": {},
   "outputs": [
    {
     "name": "stdout",
     "output_type": "stream",
     "text": [
      "Weight = [[-0.00713016]\n",
      " [ 0.26674965]\n",
      " [-0.23775208]\n",
      " [ 0.2190182 ]\n",
      " [ 2.555771  ]]\n",
      "Bias = [-1.0226153]\n"
     ]
    }
   ],
   "source": [
    "# 회귀 계수 출력\n",
    "print('Weight =', W.numpy())\n",
    "print('Bias =', b.numpy())                                 "
   ]
  },
  {
   "cell_type": "code",
   "execution_count": 14,
   "metadata": {},
   "outputs": [
    {
     "name": "stdout",
     "output_type": "stream",
     "text": [
      "\n",
      "Accuracy: 0.45833334\n"
     ]
    }
   ],
   "source": [
    "# accuracy computation (정확도 측정)\n",
    "# test data set\n",
    "x_data = xy[56:, :-1 ]\n",
    "y_data = xy[56:, [-1] ]\n",
    "\n",
    "x_test = np.array(x_data,dtype=np.float32)\n",
    "y_test = np.array(y_data,dtype=np.float32)\n",
    "\n",
    "def predict(X):\n",
    "    return tf.cast(hypothesis(X) > 0.5, dtype = tf.float32)\n",
    "\n",
    "accuracy = tf.reduce_mean(tf.cast(tf.equal(predict(x_test),y_test),\n",
    "                                     dtype = tf.float32))\n",
    "# print(\"Hypothesis:\\n\",hypothesis(x_test).numpy(), \n",
    "#       \"\\nPredict:\\n\",predict(x_test).numpy())\n",
    "\n",
    "print(\"\\nAccuracy:\",accuracy.numpy()) # Accuracy: 0.45833334\n",
    "\n"
   ]
  },
  {
   "cell_type": "code",
   "execution_count": null,
   "metadata": {},
   "outputs": [],
   "source": []
  }
 ],
 "metadata": {
  "kernelspec": {
   "display_name": "Python 3 (ipykernel)",
   "language": "python",
   "name": "python3"
  },
  "language_info": {
   "codemirror_mode": {
    "name": "ipython",
    "version": 3
   },
   "file_extension": ".py",
   "mimetype": "text/x-python",
   "name": "python",
   "nbconvert_exporter": "python",
   "pygments_lexer": "ipython3",
   "version": "3.9.16"
  }
 },
 "nbformat": 4,
 "nbformat_minor": 4
}
