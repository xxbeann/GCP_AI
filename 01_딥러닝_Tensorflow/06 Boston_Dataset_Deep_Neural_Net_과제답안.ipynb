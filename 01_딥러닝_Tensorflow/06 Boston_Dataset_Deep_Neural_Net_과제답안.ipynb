{
 "cells": [
  {
   "cell_type": "code",
   "execution_count": 1,
   "metadata": {
    "colab": {
     "base_uri": "https://localhost:8080/",
     "height": 35
    },
    "colab_type": "code",
    "executionInfo": {
     "elapsed": 2200,
     "status": "ok",
     "timestamp": 1597323652067,
     "user": {
      "displayName": "고병화",
      "photoUrl": "https://lh3.googleusercontent.com/a-/AOh14GgLZcAZyPt33HiIqtXjHiL8D4PIcVPdfLgODP1QBA=s64",
      "userId": "12645007744594631320"
     },
     "user_tz": -540
    },
    "id": "izH5NI_N0ECe",
    "outputId": "aa672ee4-ba53-4b74-94b8-a37e401dffcc"
   },
   "outputs": [],
   "source": [
    "# Boston_Dataset_Deep_Neural_Net_과제답안\n",
    "# 3 Layer DNN(Deep Neural Net)\n",
    "\n",
    "import tensorflow as tf\n",
    "import numpy as np\n",
    "import csv\n",
    "tf.random.set_seed(5)\n",
    "\n",
    "# 구글 코랩 사용 시 구글 드라이브 마운트 수행코드\n",
    "# from google.colab import drive\n",
    "# drive.mount('/content/drive')"
   ]
  },
  {
   "cell_type": "code",
   "execution_count": 2,
   "metadata": {
    "colab": {
     "base_uri": "https://localhost:8080/",
     "height": 53
    },
    "colab_type": "code",
    "executionInfo": {
     "elapsed": 2183,
     "status": "ok",
     "timestamp": 1597323652069,
     "user": {
      "displayName": "고병화",
      "photoUrl": "https://lh3.googleusercontent.com/a-/AOh14GgLZcAZyPt33HiIqtXjHiL8D4PIcVPdfLgODP1QBA=s64",
      "userId": "12645007744594631320"
     },
     "user_tz": -540
    },
    "id": "1iH4wSSP0efE",
    "outputId": "e7ad1d13-76ad-4611-ba41-8ed0a0ab52d0"
   },
   "outputs": [
    {
     "name": "stdout",
     "output_type": "stream",
     "text": [
      "(400, 9)\n",
      "(400, 1)\n"
     ]
    }
   ],
   "source": [
    "# 구글 코랩 사용 시 구글 드라이브 경로 지정, 사용자 디렉토리가 'My Drive'일 경우\n",
    "# boston_train = np.loadtxt('/content/drive/My Drive/boston_train.csv', delimiter=',', dtype=np.float32, skiprows=1)\n",
    "# boston_test = np.loadtxt('/content/drive/My Drive/boston_test.csv', delimiter=',', dtype=np.float32, skiprows=1)\n",
    "\n",
    "boston_train = np.loadtxt('boston_train.csv', delimiter=',', dtype=np.float32, skiprows=1)\n",
    "boston_test = np.loadtxt('boston_test.csv', delimiter=',', dtype=np.float32, skiprows=1)\n",
    "\n",
    "x_train = boston_train[:,:9]\n",
    "y_train = boston_train[:,[-1]]\n",
    "print(x_train.shape)   # (400,9)\n",
    "print(y_train.shape)   # (400,1)"
   ]
  },
  {
   "cell_type": "code",
   "execution_count": 3,
   "metadata": {
    "colab": {},
    "colab_type": "code",
    "executionInfo": {
     "elapsed": 3120,
     "status": "ok",
     "timestamp": 1597323653018,
     "user": {
      "displayName": "고병화",
      "photoUrl": "https://lh3.googleusercontent.com/a-/AOh14GgLZcAZyPt33HiIqtXjHiL8D4PIcVPdfLgODP1QBA=s64",
      "userId": "12645007744594631320"
     },
     "user_tz": -540
    },
    "id": "gL5J4Ina0ECm"
   },
   "outputs": [],
   "source": [
    "# Layer 1\n",
    "# (400,9) * (9,5) = (400,5)\n",
    "W1 = tf.Variable(tf.random.normal([9,5]), name='weight1')\n",
    "b1 = tf.Variable(tf.random.normal([5]), name='bias1')\n",
    "\n",
    "@tf.function\n",
    "def layer1(X):\n",
    "    return  tf.nn.relu(tf.matmul(X,W1) + b1 )"
   ]
  },
  {
   "cell_type": "code",
   "execution_count": 4,
   "metadata": {
    "colab": {},
    "colab_type": "code",
    "executionInfo": {
     "elapsed": 3115,
     "status": "ok",
     "timestamp": 1597323653019,
     "user": {
      "displayName": "고병화",
      "photoUrl": "https://lh3.googleusercontent.com/a-/AOh14GgLZcAZyPt33HiIqtXjHiL8D4PIcVPdfLgODP1QBA=s64",
      "userId": "12645007744594631320"
     },
     "user_tz": -540
    },
    "id": "iXShdYF90ECq"
   },
   "outputs": [],
   "source": [
    "# layer 2\n",
    "# (400,5) * (5,2) = (400,2)\n",
    "W2 = tf.Variable(tf.random.normal([5,2]), name='weight2')\n",
    "b2 = tf.Variable(tf.random.normal([2]), name='bias2')\n",
    "\n",
    "@tf.function\n",
    "def layer2(X):\n",
    "    return  tf.nn.relu(tf.matmul(layer1(X),W2) + b2 )"
   ]
  },
  {
   "cell_type": "code",
   "execution_count": 5,
   "metadata": {
    "colab": {},
    "colab_type": "code",
    "executionInfo": {
     "elapsed": 3109,
     "status": "ok",
     "timestamp": 1597323653021,
     "user": {
      "displayName": "고병화",
      "photoUrl": "https://lh3.googleusercontent.com/a-/AOh14GgLZcAZyPt33HiIqtXjHiL8D4PIcVPdfLgODP1QBA=s64",
      "userId": "12645007744594631320"
     },
     "user_tz": -540
    },
    "id": "wkmUGoCt4Mmo"
   },
   "outputs": [],
   "source": [
    "# layer 3\n",
    "# (400,2) * (2,1) = (400,1)\n",
    "W3 = tf.Variable(tf.random.normal([2,1]), name='weight3')\n",
    "b3 = tf.Variable(tf.random.normal([1]), name='bias3')"
   ]
  },
  {
   "cell_type": "code",
   "execution_count": 6,
   "metadata": {
    "colab": {},
    "colab_type": "code",
    "executionInfo": {
     "elapsed": 3103,
     "status": "ok",
     "timestamp": 1597323653022,
     "user": {
      "displayName": "고병화",
      "photoUrl": "https://lh3.googleusercontent.com/a-/AOh14GgLZcAZyPt33HiIqtXjHiL8D4PIcVPdfLgODP1QBA=s64",
      "userId": "12645007744594631320"
     },
     "user_tz": -540
    },
    "id": "K_EOOJ5B0EC0"
   },
   "outputs": [],
   "source": [
    "# hypothesis 예측 함수(방정식)  , H(x) = W * X + b\n",
    "@tf.function\n",
    "def hypothesis(X):\n",
    "    return  tf.matmul(layer2(X),W3) + b3  "
   ]
  },
  {
   "cell_type": "code",
   "execution_count": 7,
   "metadata": {
    "colab": {},
    "colab_type": "code",
    "executionInfo": {
     "elapsed": 3096,
     "status": "ok",
     "timestamp": 1597323653023,
     "user": {
      "displayName": "고병화",
      "photoUrl": "https://lh3.googleusercontent.com/a-/AOh14GgLZcAZyPt33HiIqtXjHiL8D4PIcVPdfLgODP1QBA=s64",
      "userId": "12645007744594631320"
     },
     "user_tz": -540
    },
    "id": "bukL8DzE0EC5"
   },
   "outputs": [],
   "source": [
    "# 비용함수 : (Hx - y)^2 의 평균\n",
    "@tf.function\n",
    "def cost_func():\n",
    "    cost = tf.reduce_mean(tf.square((hypothesis(x_train) - y_train)))\n",
    "    return cost"
   ]
  },
  {
   "cell_type": "code",
   "execution_count": 8,
   "metadata": {
    "colab": {},
    "colab_type": "code",
    "executionInfo": {
     "elapsed": 3091,
     "status": "ok",
     "timestamp": 1597323653025,
     "user": {
      "displayName": "고병화",
      "photoUrl": "https://lh3.googleusercontent.com/a-/AOh14GgLZcAZyPt33HiIqtXjHiL8D4PIcVPdfLgODP1QBA=s64",
      "userId": "12645007744594631320"
     },
     "user_tz": -540
    },
    "id": "TDe0GvXJ0EC9"
   },
   "outputs": [],
   "source": [
    "# 경사 하강법\n",
    "# learning rate (학습율) 을 0.01로 설정하여  optimizer객체를 생성\n",
    "# optimizer = tf.compat.v1.train.GradientDescentOptimizer(learning_rate=0.01)\n",
    "optimizer = tf.keras.optimizers.Adam(lr=0.01)"
   ]
  },
  {
   "cell_type": "code",
   "execution_count": 9,
   "metadata": {
    "colab": {
     "base_uri": "https://localhost:8080/",
     "height": 251
    },
    "colab_type": "code",
    "executionInfo": {
     "elapsed": 34593,
     "status": "ok",
     "timestamp": 1597323684535,
     "user": {
      "displayName": "고병화",
      "photoUrl": "https://lh3.googleusercontent.com/a-/AOh14GgLZcAZyPt33HiIqtXjHiL8D4PIcVPdfLgODP1QBA=s64",
      "userId": "12645007744594631320"
     },
     "user_tz": -540
    },
    "id": "dCd9NcZU0EDB",
    "outputId": "fa0fe364-aec9-4fbc-b6bf-a8fa96728421"
   },
   "outputs": [
    {
     "name": "stdout",
     "output_type": "stream",
     "text": [
      "***** Start Learning!!\n",
      "0000 cost: [ 642.07025 ]\n",
      "1000 cost: [ 48.002228 ]\n",
      "2000 cost: [ 29.871864 ]\n",
      "3000 cost: [ 29.093866 ]\n",
      "4000 cost: [ 28.794493 ]\n",
      "5000 cost: [ 28.708157 ]\n",
      "6000 cost: [ 28.683994 ]\n",
      "7000 cost: [ 28.708096 ]\n",
      "8000 cost: [ 28.658808 ]\n",
      "9000 cost: [ 28.639614 ]\n",
      "10000 cost: [ 28.66671 ]\n",
      "***** Learning Finished!!\n"
     ]
    }
   ],
   "source": [
    "# 학습 시작\n",
    "print('***** Start Learning!!')\n",
    "for step in range(10001):\n",
    "    # cost를 minimize한다\n",
    "    optimizer.minimize(cost_func, var_list=[W1,b1,W2,b2,W3,b3])\n",
    "    \n",
    "    if step % 1000 == 0:\n",
    "        print('%04d'%step, 'cost: [', cost_func().numpy(), ']' )\n",
    "        \n",
    "print('***** Learning Finished!!')"
   ]
  },
  {
   "cell_type": "code",
   "execution_count": 10,
   "metadata": {
    "colab": {
     "base_uri": "https://localhost:8080/",
     "height": 359
    },
    "colab_type": "code",
    "executionInfo": {
     "elapsed": 34585,
     "status": "ok",
     "timestamp": 1597323684537,
     "user": {
      "displayName": "고병화",
      "photoUrl": "https://lh3.googleusercontent.com/a-/AOh14GgLZcAZyPt33HiIqtXjHiL8D4PIcVPdfLgODP1QBA=s64",
      "userId": "12645007744594631320"
     },
     "user_tz": -540
    },
    "id": "Pz0hSjCu0EDG",
    "outputId": "5f769170-352b-4fc4-92b0-dcb2b2d7a0be"
   },
   "outputs": [
    {
     "name": "stdout",
     "output_type": "stream",
     "text": [
      "Weight = [[-1.8030666e-01 -1.1792762e+00 -3.9640494e-02 -4.1436806e-01\n",
      "   1.3231523e+00]\n",
      " [-6.1854804e-01  4.1731346e-01 -8.8999532e-02  1.3872666e-02\n",
      "   7.6250798e-01]\n",
      " [ 1.2659615e+00  6.3132334e-01  1.5293121e+00 -1.2260184e-03\n",
      "   8.9870441e-01]\n",
      " [-1.2508010e+00 -1.2747028e+00  1.2607460e+00 -1.7003698e+01\n",
      "   2.6157657e-02]\n",
      " [ 2.2328745e-01  5.2540141e-01 -3.7048063e-01  8.7403126e+00\n",
      "   1.3794525e-01]\n",
      " [ 7.5969249e-01  8.1761904e-02 -1.3800851e+00 -5.3248797e-02\n",
      "   1.1383884e+00]\n",
      " [-9.1330576e-01  2.8136900e-01 -6.7893195e-01 -1.4076461e+00\n",
      "  -4.9823263e-01]\n",
      " [-9.3361068e-01 -3.8816217e-01 -4.0501364e-02 -9.6510549e-04\n",
      "  -1.4186655e+00]\n",
      " [-9.0990627e-01  7.4242425e-01 -1.1188040e-01 -9.1340071e-01\n",
      "  -1.4201527e+00]]\n",
      "Bias = [ 0.22652863  0.37694615  0.7466094  -9.805608    0.72448725]\n"
     ]
    }
   ],
   "source": [
    "# 회귀 계수 출력\n",
    "print('Weight =', W1.numpy())\n",
    "print('Bias =', b1.numpy())"
   ]
  },
  {
   "cell_type": "code",
   "execution_count": 11,
   "metadata": {
    "colab": {},
    "colab_type": "code",
    "executionInfo": {
     "elapsed": 34578,
     "status": "ok",
     "timestamp": 1597323684539,
     "user": {
      "displayName": "고병화",
      "photoUrl": "https://lh3.googleusercontent.com/a-/AOh14GgLZcAZyPt33HiIqtXjHiL8D4PIcVPdfLgODP1QBA=s64",
      "userId": "12645007744594631320"
     },
     "user_tz": -540
    },
    "id": "zV_0TdHt0EDK"
   },
   "outputs": [],
   "source": [
    "# 예측\n",
    "x_test = boston_test[:,:9]\n",
    "y_test = boston_test[:,[-1]]\n",
    "\n",
    "preds = hypothesis(x_test).numpy()"
   ]
  },
  {
   "cell_type": "code",
   "execution_count": 12,
   "metadata": {
    "colab": {
     "base_uri": "https://localhost:8080/",
     "height": 35
    },
    "colab_type": "code",
    "executionInfo": {
     "elapsed": 34571,
     "status": "ok",
     "timestamp": 1597323684539,
     "user": {
      "displayName": "고병화",
      "photoUrl": "https://lh3.googleusercontent.com/a-/AOh14GgLZcAZyPt33HiIqtXjHiL8D4PIcVPdfLgODP1QBA=s64",
      "userId": "12645007744594631320"
     },
     "user_tz": -540
    },
    "id": "C5mWp2Ja0EDN",
    "outputId": "1537c46e-9f2f-445e-9201-2b0876166b35"
   },
   "outputs": [
    {
     "name": "stdout",
     "output_type": "stream",
     "text": [
      "RMSE: 3.6358266\n"
     ]
    }
   ],
   "source": [
    "# 정확도 측정(RMSE)\n",
    "def get_rmse(y_test,preds):\n",
    "    squared_error = 0\n",
    "    for k,_ in enumerate(y_test):\n",
    "        squared_error += (preds[k] - y_test[k])**2\n",
    "    mse = squared_error/len(y_test)    \n",
    "    rmse = np.sqrt(mse)\n",
    "    return rmse[0]  \n",
    "\n",
    "print('RMSE:', get_rmse(y_test,preds))\n",
    "# layer 1 ---->   RMSE: 4.0023303 \n",
    "# layer 3 ---->   RMSE: 3.6358266  , RMSE가 감소하여 정확도가 향상됨"
   ]
  },
  {
   "cell_type": "code",
   "execution_count": null,
   "metadata": {
    "colab": {},
    "colab_type": "code",
    "executionInfo": {
     "elapsed": 34561,
     "status": "ok",
     "timestamp": 1597323684540,
     "user": {
      "displayName": "고병화",
      "photoUrl": "https://lh3.googleusercontent.com/a-/AOh14GgLZcAZyPt33HiIqtXjHiL8D4PIcVPdfLgODP1QBA=s64",
      "userId": "12645007744594631320"
     },
     "user_tz": -540
    },
    "id": "CBxnduqG0EDR"
   },
   "outputs": [],
   "source": []
  }
 ],
 "metadata": {
  "accelerator": "GPU",
  "colab": {
   "collapsed_sections": [],
   "name": "Boston_Dataset_Deep_Neural_Net_과제답안.ipynb",
   "provenance": []
  },
  "kernelspec": {
   "display_name": "Python 3 (ipykernel)",
   "language": "python",
   "name": "python3"
  },
  "language_info": {
   "codemirror_mode": {
    "name": "ipython",
    "version": 3
   },
   "file_extension": ".py",
   "mimetype": "text/x-python",
   "name": "python",
   "nbconvert_exporter": "python",
   "pygments_lexer": "ipython3",
   "version": "3.9.16"
  }
 },
 "nbformat": 4,
 "nbformat_minor": 1
}
